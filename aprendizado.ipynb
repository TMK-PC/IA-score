{
 "cells": [
  {
   "cell_type": "markdown",
   "metadata": {},
   "source": [
    "# Projeto Python IA: Inteligência Artificial e Previsões\n",
    "\n",
    "### Case: Score de Crédito dos Clientes\n",
    "\n",
    "Você foi contratado por um banco para conseguir definir o score de crédito dos clientes. Você precisa analisar todos os clientes do banco e, com base nessa análise, criar um modelo que consiga ler as informações do cliente e dizer automaticamente o score de crédito dele: Ruim, Ok, Bom"
   ]
  },
  {
   "cell_type": "code",
   "execution_count": 14,
   "metadata": {},
   "outputs": [],
   "source": [
    "#passo a passo\n",
    "#1: Importar base de dados\n",
    "#2: Tratar os dados\n",
    "#3 Importar IA\n",
    "#4: Treinar a IA\n",
    "#5: Testar a IA\n",
    "#6 Decidir a melhor IA\n",
    "#7: Usar a IA"
   ]
  },
  {
   "cell_type": "code",
   "execution_count": 15,
   "metadata": {},
   "outputs": [
    {
     "name": "stdout",
     "output_type": "stream",
     "text": [
      "<class 'pandas.core.frame.DataFrame'>\n",
      "RangeIndex: 100000 entries, 0 to 99999\n",
      "Data columns (total 25 columns):\n",
      " #   Column                    Non-Null Count   Dtype  \n",
      "---  ------                    --------------   -----  \n",
      " 0   id_cliente                100000 non-null  int64  \n",
      " 1   mes                       100000 non-null  int64  \n",
      " 2   idade                     100000 non-null  float64\n",
      " 3   profissao                 100000 non-null  object \n",
      " 4   salario_anual             100000 non-null  float64\n",
      " 5   num_contas                100000 non-null  float64\n",
      " 6   num_cartoes               100000 non-null  float64\n",
      " 7   juros_emprestimo          100000 non-null  float64\n",
      " 8   num_emprestimos           100000 non-null  float64\n",
      " 9   dias_atraso               100000 non-null  float64\n",
      " 10  num_pagamentos_atrasados  100000 non-null  float64\n",
      " 11  num_verificacoes_credito  100000 non-null  float64\n",
      " 12  mix_credito               100000 non-null  object \n",
      " 13  divida_total              100000 non-null  float64\n",
      " 14  taxa_uso_credito          100000 non-null  float64\n",
      " 15  idade_historico_credito   100000 non-null  float64\n",
      " 16  investimento_mensal       100000 non-null  float64\n",
      " 17  comportamento_pagamento   100000 non-null  object \n",
      " 18  saldo_final_mes           100000 non-null  float64\n",
      " 19  score_credito             100000 non-null  object \n",
      " 20  emprestimo_carro          100000 non-null  int64  \n",
      " 21  emprestimo_casa           100000 non-null  int64  \n",
      " 22  emprestimo_pessoal        100000 non-null  int64  \n",
      " 23  emprestimo_credito        100000 non-null  int64  \n",
      " 24  emprestimo_estudantil     100000 non-null  int64  \n",
      "dtypes: float64(14), int64(7), object(4)\n",
      "memory usage: 19.1+ MB\n"
     ]
    },
    {
     "data": {
      "text/plain": [
       "None"
      ]
     },
     "metadata": {},
     "output_type": "display_data"
    }
   ],
   "source": [
    "#1: Importar base de dados\n",
    "\n",
    "import pandas as pd\n",
    "\n",
    "clientes = pd.read_csv('clientes.csv')\n",
    "\n",
    "display(clientes.info())"
   ]
  },
  {
   "cell_type": "code",
   "execution_count": 17,
   "metadata": {},
   "outputs": [],
   "source": [
    "#2: Tratar dados\n",
    "#atribuir numero a algumas strings para facilitar o aprendizado\n",
    "from sklearn.preprocessing import LabelEncoder\n",
    "\n",
    "codificar = LabelEncoder()\n",
    "\n",
    "for coluna in clientes:\n",
    "    if clientes[coluna].dtype == 'object' and coluna != 'score_credito':\n",
    "        clientes[coluna] = codificar.fit_transform(clientes[coluna])\n",
    "\n",
    "\n",
    "\n",
    "# definindo os valores que serão oferecidos e qual ele vai ter que apresentar, também definindo uma parte\n",
    "#para treino e outra para teste\n",
    "\n",
    "x = clientes.drop(columns=['id_cliente', 'score_credito'])\n",
    "\n",
    "y = clientes['score_credito']\n",
    "\n",
    "from sklearn.model_selection import train_test_split\n",
    "\n",
    "x_treino, x_teste, y_treino, y_teste = train_test_split(x, y, train_size=0.3)\n",
    "\n",
    "\n",
    "\n"
   ]
  },
  {
   "cell_type": "code",
   "execution_count": 19,
   "metadata": {},
   "outputs": [
    {
     "data": {
      "text/plain": [
       "0.7812714285714286"
      ]
     },
     "metadata": {},
     "output_type": "display_data"
    },
    {
     "data": {
      "text/plain": [
       "0.6371857142857142"
      ]
     },
     "metadata": {},
     "output_type": "display_data"
    }
   ],
   "source": [
    "#3 importar IA\n",
    "\n",
    "from sklearn.ensemble import RandomForestClassifier\n",
    "from sklearn.neighbors import KNeighborsClassifier\n",
    "\n",
    "arvore = RandomForestClassifier()\n",
    "vizinhos = KNeighborsClassifier()\n",
    "\n",
    "#4 Treinar IA\n",
    "\n",
    "arvore.fit(x_treino, y_treino)\n",
    "vizinhos.fit(x_treino, y_treino)\n",
    "\n",
    "#5 Testar IA\n",
    "\n",
    "precisao1 = arvore.score(x_teste, y_teste)\n",
    "precisao2 = vizinhos.score(x_teste, y_teste)\n",
    "\n",
    "display(precisao1)\n",
    "display(precisao2)\n",
    "\n",
    "#6 melhor IA: Arvore"
   ]
  },
  {
   "cell_type": "code",
   "execution_count": 22,
   "metadata": {},
   "outputs": [
    {
     "data": {
      "text/plain": [
       "array(['Poor', 'Good', 'Standard'], dtype=object)"
      ]
     },
     "metadata": {},
     "output_type": "display_data"
    }
   ],
   "source": [
    "#7 Utilizando a IA\n",
    "\n",
    "novos_clientes = pd.read_csv('novos_clientes.csv')\n",
    "\n",
    "for coluna in novos_clientes:\n",
    "    if novos_clientes[coluna].dtype == 'object' and coluna != 'score_credito':\n",
    "        novos_clientes[coluna] = codificar.fit_transform(novos_clientes[coluna]) \n",
    "\n",
    "resultado = arvore.predict(novos_clientes)\n",
    "\n",
    "display(resultado)"
   ]
  }
 ],
 "metadata": {
  "kernelspec": {
   "display_name": "Python 3",
   "language": "python",
   "name": "python3"
  },
  "language_info": {
   "codemirror_mode": {
    "name": "ipython",
    "version": 3
   },
   "file_extension": ".py",
   "mimetype": "text/x-python",
   "name": "python",
   "nbconvert_exporter": "python",
   "pygments_lexer": "ipython3",
   "version": "3.12.3"
  },
  "orig_nbformat": 4
 },
 "nbformat": 4,
 "nbformat_minor": 2
}
